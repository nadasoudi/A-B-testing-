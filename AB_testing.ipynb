{
  "metadata": {
    "kernelspec": {
      "language": "python",
      "display_name": "Python 3",
      "name": "python3"
    },
    "language_info": {
      "name": "python",
      "version": "3.10.13",
      "mimetype": "text/x-python",
      "codemirror_mode": {
        "name": "ipython",
        "version": 3
      },
      "pygments_lexer": "ipython3",
      "nbconvert_exporter": "python",
      "file_extension": ".py"
    },
    "kaggle": {
      "accelerator": "none",
      "dataSources": [
        {
          "sourceId": 7781455,
          "sourceType": "datasetVersion",
          "datasetId": 4553641
        }
      ],
      "dockerImageVersionId": 30698,
      "isInternetEnabled": true,
      "language": "python",
      "sourceType": "notebook",
      "isGpuEnabled": false
    },
    "colab": {
      "provenance": []
    }
  },
  "nbformat_minor": 0,
  "nbformat": 4,
  "cells": [
    {
      "cell_type": "markdown",
      "source": [
        "## Table of Content\n",
        "1. [Summary Statistics](#ch0)\n",
        "2. [Q1](#ch1)\n",
        "3. [Q2](#ch2)\n",
        "4. [Q3](#ch3)\n",
        "5. [Q4](#ch4)"
      ],
      "metadata": {
        "id": "dOJLRL6GX9al"
      }
    },
    {
      "cell_type": "markdown",
      "source": [
        "## Desciptive insights about the data <a><a name='ch0'>"
      ],
      "metadata": {
        "id": "YeCmcAkCX9am"
      }
    },
    {
      "cell_type": "markdown",
      "source": [
        "In this module, We want you to build your insights (summary statistics and basic plots) about the given dataset\n",
        "starting by\n",
        "1. Downloading the data from [here](https://www.kaggle.com/datasets/bhavikjikadara/student-study-performance)\n",
        "1. Reading the data and printing the first 5 rows\n",
        "2. Printing the 5 number for numerical data (Q1 (min) ,Q2,Q3 (median) ,Q4,Q5 (max))\n",
        "3. Printing the value counts for categorical features\n"
      ],
      "metadata": {
        "id": "Y2qL6ozlX9am"
      }
    },
    {
      "cell_type": "markdown",
      "source": [
        "### Solution"
      ],
      "metadata": {
        "id": "ODlXTUpnX9an"
      }
    },
    {
      "cell_type": "code",
      "source": [
        "import pandas as pd\n",
        "import matplotlib.pyplot as plt\n",
        "import seaborn as sns"
      ],
      "metadata": {
        "id": "SNUbEKKmzu-1"
      },
      "execution_count": 22,
      "outputs": []
    },
    {
      "cell_type": "code",
      "source": [
        "df = pd.read_csv('study_performance.csv')\n",
        "df.head()"
      ],
      "metadata": {
        "id": "OhBdXPwYZCjV",
        "colab": {
          "base_uri": "https://localhost:8080/",
          "height": 206
        },
        "outputId": "1261f618-ef2c-4472-c589-2794119115fc"
      },
      "execution_count": 23,
      "outputs": [
        {
          "output_type": "execute_result",
          "data": {
            "text/plain": [
              "   gender race_ethnicity parental_level_of_education         lunch  \\\n",
              "0  female        group B           bachelor's degree      standard   \n",
              "1  female        group C                some college      standard   \n",
              "2  female        group B             master's degree      standard   \n",
              "3    male        group A          associate's degree  free/reduced   \n",
              "4    male        group C                some college      standard   \n",
              "\n",
              "  test_preparation_course  math_score  reading_score  writing_score  \n",
              "0                    none          72             72             74  \n",
              "1               completed          69             90             88  \n",
              "2                    none          90             95             93  \n",
              "3                    none          47             57             44  \n",
              "4                    none          76             78             75  "
            ],
            "text/html": [
              "\n",
              "  <div id=\"df-8928a804-d615-4a52-92ea-c5d4334647c4\" class=\"colab-df-container\">\n",
              "    <div>\n",
              "<style scoped>\n",
              "    .dataframe tbody tr th:only-of-type {\n",
              "        vertical-align: middle;\n",
              "    }\n",
              "\n",
              "    .dataframe tbody tr th {\n",
              "        vertical-align: top;\n",
              "    }\n",
              "\n",
              "    .dataframe thead th {\n",
              "        text-align: right;\n",
              "    }\n",
              "</style>\n",
              "<table border=\"1\" class=\"dataframe\">\n",
              "  <thead>\n",
              "    <tr style=\"text-align: right;\">\n",
              "      <th></th>\n",
              "      <th>gender</th>\n",
              "      <th>race_ethnicity</th>\n",
              "      <th>parental_level_of_education</th>\n",
              "      <th>lunch</th>\n",
              "      <th>test_preparation_course</th>\n",
              "      <th>math_score</th>\n",
              "      <th>reading_score</th>\n",
              "      <th>writing_score</th>\n",
              "    </tr>\n",
              "  </thead>\n",
              "  <tbody>\n",
              "    <tr>\n",
              "      <th>0</th>\n",
              "      <td>female</td>\n",
              "      <td>group B</td>\n",
              "      <td>bachelor's degree</td>\n",
              "      <td>standard</td>\n",
              "      <td>none</td>\n",
              "      <td>72</td>\n",
              "      <td>72</td>\n",
              "      <td>74</td>\n",
              "    </tr>\n",
              "    <tr>\n",
              "      <th>1</th>\n",
              "      <td>female</td>\n",
              "      <td>group C</td>\n",
              "      <td>some college</td>\n",
              "      <td>standard</td>\n",
              "      <td>completed</td>\n",
              "      <td>69</td>\n",
              "      <td>90</td>\n",
              "      <td>88</td>\n",
              "    </tr>\n",
              "    <tr>\n",
              "      <th>2</th>\n",
              "      <td>female</td>\n",
              "      <td>group B</td>\n",
              "      <td>master's degree</td>\n",
              "      <td>standard</td>\n",
              "      <td>none</td>\n",
              "      <td>90</td>\n",
              "      <td>95</td>\n",
              "      <td>93</td>\n",
              "    </tr>\n",
              "    <tr>\n",
              "      <th>3</th>\n",
              "      <td>male</td>\n",
              "      <td>group A</td>\n",
              "      <td>associate's degree</td>\n",
              "      <td>free/reduced</td>\n",
              "      <td>none</td>\n",
              "      <td>47</td>\n",
              "      <td>57</td>\n",
              "      <td>44</td>\n",
              "    </tr>\n",
              "    <tr>\n",
              "      <th>4</th>\n",
              "      <td>male</td>\n",
              "      <td>group C</td>\n",
              "      <td>some college</td>\n",
              "      <td>standard</td>\n",
              "      <td>none</td>\n",
              "      <td>76</td>\n",
              "      <td>78</td>\n",
              "      <td>75</td>\n",
              "    </tr>\n",
              "  </tbody>\n",
              "</table>\n",
              "</div>\n",
              "    <div class=\"colab-df-buttons\">\n",
              "\n",
              "  <div class=\"colab-df-container\">\n",
              "    <button class=\"colab-df-convert\" onclick=\"convertToInteractive('df-8928a804-d615-4a52-92ea-c5d4334647c4')\"\n",
              "            title=\"Convert this dataframe to an interactive table.\"\n",
              "            style=\"display:none;\">\n",
              "\n",
              "  <svg xmlns=\"http://www.w3.org/2000/svg\" height=\"24px\" viewBox=\"0 -960 960 960\">\n",
              "    <path d=\"M120-120v-720h720v720H120Zm60-500h600v-160H180v160Zm220 220h160v-160H400v160Zm0 220h160v-160H400v160ZM180-400h160v-160H180v160Zm440 0h160v-160H620v160ZM180-180h160v-160H180v160Zm440 0h160v-160H620v160Z\"/>\n",
              "  </svg>\n",
              "    </button>\n",
              "\n",
              "  <style>\n",
              "    .colab-df-container {\n",
              "      display:flex;\n",
              "      gap: 12px;\n",
              "    }\n",
              "\n",
              "    .colab-df-convert {\n",
              "      background-color: #E8F0FE;\n",
              "      border: none;\n",
              "      border-radius: 50%;\n",
              "      cursor: pointer;\n",
              "      display: none;\n",
              "      fill: #1967D2;\n",
              "      height: 32px;\n",
              "      padding: 0 0 0 0;\n",
              "      width: 32px;\n",
              "    }\n",
              "\n",
              "    .colab-df-convert:hover {\n",
              "      background-color: #E2EBFA;\n",
              "      box-shadow: 0px 1px 2px rgba(60, 64, 67, 0.3), 0px 1px 3px 1px rgba(60, 64, 67, 0.15);\n",
              "      fill: #174EA6;\n",
              "    }\n",
              "\n",
              "    .colab-df-buttons div {\n",
              "      margin-bottom: 4px;\n",
              "    }\n",
              "\n",
              "    [theme=dark] .colab-df-convert {\n",
              "      background-color: #3B4455;\n",
              "      fill: #D2E3FC;\n",
              "    }\n",
              "\n",
              "    [theme=dark] .colab-df-convert:hover {\n",
              "      background-color: #434B5C;\n",
              "      box-shadow: 0px 1px 3px 1px rgba(0, 0, 0, 0.15);\n",
              "      filter: drop-shadow(0px 1px 2px rgba(0, 0, 0, 0.3));\n",
              "      fill: #FFFFFF;\n",
              "    }\n",
              "  </style>\n",
              "\n",
              "    <script>\n",
              "      const buttonEl =\n",
              "        document.querySelector('#df-8928a804-d615-4a52-92ea-c5d4334647c4 button.colab-df-convert');\n",
              "      buttonEl.style.display =\n",
              "        google.colab.kernel.accessAllowed ? 'block' : 'none';\n",
              "\n",
              "      async function convertToInteractive(key) {\n",
              "        const element = document.querySelector('#df-8928a804-d615-4a52-92ea-c5d4334647c4');\n",
              "        const dataTable =\n",
              "          await google.colab.kernel.invokeFunction('convertToInteractive',\n",
              "                                                    [key], {});\n",
              "        if (!dataTable) return;\n",
              "\n",
              "        const docLinkHtml = 'Like what you see? Visit the ' +\n",
              "          '<a target=\"_blank\" href=https://colab.research.google.com/notebooks/data_table.ipynb>data table notebook</a>'\n",
              "          + ' to learn more about interactive tables.';\n",
              "        element.innerHTML = '';\n",
              "        dataTable['output_type'] = 'display_data';\n",
              "        await google.colab.output.renderOutput(dataTable, element);\n",
              "        const docLink = document.createElement('div');\n",
              "        docLink.innerHTML = docLinkHtml;\n",
              "        element.appendChild(docLink);\n",
              "      }\n",
              "    </script>\n",
              "  </div>\n",
              "\n",
              "\n",
              "<div id=\"df-15703d16-303f-40be-ba51-4db5c2ae58f5\">\n",
              "  <button class=\"colab-df-quickchart\" onclick=\"quickchart('df-15703d16-303f-40be-ba51-4db5c2ae58f5')\"\n",
              "            title=\"Suggest charts\"\n",
              "            style=\"display:none;\">\n",
              "\n",
              "<svg xmlns=\"http://www.w3.org/2000/svg\" height=\"24px\"viewBox=\"0 0 24 24\"\n",
              "     width=\"24px\">\n",
              "    <g>\n",
              "        <path d=\"M19 3H5c-1.1 0-2 .9-2 2v14c0 1.1.9 2 2 2h14c1.1 0 2-.9 2-2V5c0-1.1-.9-2-2-2zM9 17H7v-7h2v7zm4 0h-2V7h2v10zm4 0h-2v-4h2v4z\"/>\n",
              "    </g>\n",
              "</svg>\n",
              "  </button>\n",
              "\n",
              "<style>\n",
              "  .colab-df-quickchart {\n",
              "      --bg-color: #E8F0FE;\n",
              "      --fill-color: #1967D2;\n",
              "      --hover-bg-color: #E2EBFA;\n",
              "      --hover-fill-color: #174EA6;\n",
              "      --disabled-fill-color: #AAA;\n",
              "      --disabled-bg-color: #DDD;\n",
              "  }\n",
              "\n",
              "  [theme=dark] .colab-df-quickchart {\n",
              "      --bg-color: #3B4455;\n",
              "      --fill-color: #D2E3FC;\n",
              "      --hover-bg-color: #434B5C;\n",
              "      --hover-fill-color: #FFFFFF;\n",
              "      --disabled-bg-color: #3B4455;\n",
              "      --disabled-fill-color: #666;\n",
              "  }\n",
              "\n",
              "  .colab-df-quickchart {\n",
              "    background-color: var(--bg-color);\n",
              "    border: none;\n",
              "    border-radius: 50%;\n",
              "    cursor: pointer;\n",
              "    display: none;\n",
              "    fill: var(--fill-color);\n",
              "    height: 32px;\n",
              "    padding: 0;\n",
              "    width: 32px;\n",
              "  }\n",
              "\n",
              "  .colab-df-quickchart:hover {\n",
              "    background-color: var(--hover-bg-color);\n",
              "    box-shadow: 0 1px 2px rgba(60, 64, 67, 0.3), 0 1px 3px 1px rgba(60, 64, 67, 0.15);\n",
              "    fill: var(--button-hover-fill-color);\n",
              "  }\n",
              "\n",
              "  .colab-df-quickchart-complete:disabled,\n",
              "  .colab-df-quickchart-complete:disabled:hover {\n",
              "    background-color: var(--disabled-bg-color);\n",
              "    fill: var(--disabled-fill-color);\n",
              "    box-shadow: none;\n",
              "  }\n",
              "\n",
              "  .colab-df-spinner {\n",
              "    border: 2px solid var(--fill-color);\n",
              "    border-color: transparent;\n",
              "    border-bottom-color: var(--fill-color);\n",
              "    animation:\n",
              "      spin 1s steps(1) infinite;\n",
              "  }\n",
              "\n",
              "  @keyframes spin {\n",
              "    0% {\n",
              "      border-color: transparent;\n",
              "      border-bottom-color: var(--fill-color);\n",
              "      border-left-color: var(--fill-color);\n",
              "    }\n",
              "    20% {\n",
              "      border-color: transparent;\n",
              "      border-left-color: var(--fill-color);\n",
              "      border-top-color: var(--fill-color);\n",
              "    }\n",
              "    30% {\n",
              "      border-color: transparent;\n",
              "      border-left-color: var(--fill-color);\n",
              "      border-top-color: var(--fill-color);\n",
              "      border-right-color: var(--fill-color);\n",
              "    }\n",
              "    40% {\n",
              "      border-color: transparent;\n",
              "      border-right-color: var(--fill-color);\n",
              "      border-top-color: var(--fill-color);\n",
              "    }\n",
              "    60% {\n",
              "      border-color: transparent;\n",
              "      border-right-color: var(--fill-color);\n",
              "    }\n",
              "    80% {\n",
              "      border-color: transparent;\n",
              "      border-right-color: var(--fill-color);\n",
              "      border-bottom-color: var(--fill-color);\n",
              "    }\n",
              "    90% {\n",
              "      border-color: transparent;\n",
              "      border-bottom-color: var(--fill-color);\n",
              "    }\n",
              "  }\n",
              "</style>\n",
              "\n",
              "  <script>\n",
              "    async function quickchart(key) {\n",
              "      const quickchartButtonEl =\n",
              "        document.querySelector('#' + key + ' button');\n",
              "      quickchartButtonEl.disabled = true;  // To prevent multiple clicks.\n",
              "      quickchartButtonEl.classList.add('colab-df-spinner');\n",
              "      try {\n",
              "        const charts = await google.colab.kernel.invokeFunction(\n",
              "            'suggestCharts', [key], {});\n",
              "      } catch (error) {\n",
              "        console.error('Error during call to suggestCharts:', error);\n",
              "      }\n",
              "      quickchartButtonEl.classList.remove('colab-df-spinner');\n",
              "      quickchartButtonEl.classList.add('colab-df-quickchart-complete');\n",
              "    }\n",
              "    (() => {\n",
              "      let quickchartButtonEl =\n",
              "        document.querySelector('#df-15703d16-303f-40be-ba51-4db5c2ae58f5 button');\n",
              "      quickchartButtonEl.style.display =\n",
              "        google.colab.kernel.accessAllowed ? 'block' : 'none';\n",
              "    })();\n",
              "  </script>\n",
              "</div>\n",
              "    </div>\n",
              "  </div>\n"
            ],
            "application/vnd.google.colaboratory.intrinsic+json": {
              "type": "dataframe",
              "variable_name": "df",
              "summary": "{\n  \"name\": \"df\",\n  \"rows\": 1000,\n  \"fields\": [\n    {\n      \"column\": \"gender\",\n      \"properties\": {\n        \"dtype\": \"category\",\n        \"num_unique_values\": 2,\n        \"samples\": [\n          \"male\",\n          \"female\"\n        ],\n        \"semantic_type\": \"\",\n        \"description\": \"\"\n      }\n    },\n    {\n      \"column\": \"race_ethnicity\",\n      \"properties\": {\n        \"dtype\": \"category\",\n        \"num_unique_values\": 5,\n        \"samples\": [\n          \"group C\",\n          \"group E\"\n        ],\n        \"semantic_type\": \"\",\n        \"description\": \"\"\n      }\n    },\n    {\n      \"column\": \"parental_level_of_education\",\n      \"properties\": {\n        \"dtype\": \"category\",\n        \"num_unique_values\": 6,\n        \"samples\": [\n          \"bachelor's degree\",\n          \"some college\"\n        ],\n        \"semantic_type\": \"\",\n        \"description\": \"\"\n      }\n    },\n    {\n      \"column\": \"lunch\",\n      \"properties\": {\n        \"dtype\": \"category\",\n        \"num_unique_values\": 2,\n        \"samples\": [\n          \"free/reduced\",\n          \"standard\"\n        ],\n        \"semantic_type\": \"\",\n        \"description\": \"\"\n      }\n    },\n    {\n      \"column\": \"test_preparation_course\",\n      \"properties\": {\n        \"dtype\": \"category\",\n        \"num_unique_values\": 2,\n        \"samples\": [\n          \"completed\",\n          \"none\"\n        ],\n        \"semantic_type\": \"\",\n        \"description\": \"\"\n      }\n    },\n    {\n      \"column\": \"math_score\",\n      \"properties\": {\n        \"dtype\": \"number\",\n        \"std\": 15,\n        \"min\": 0,\n        \"max\": 100,\n        \"num_unique_values\": 81,\n        \"samples\": [\n          55,\n          72\n        ],\n        \"semantic_type\": \"\",\n        \"description\": \"\"\n      }\n    },\n    {\n      \"column\": \"reading_score\",\n      \"properties\": {\n        \"dtype\": \"number\",\n        \"std\": 14,\n        \"min\": 17,\n        \"max\": 100,\n        \"num_unique_values\": 72,\n        \"samples\": [\n          78,\n          23\n        ],\n        \"semantic_type\": \"\",\n        \"description\": \"\"\n      }\n    },\n    {\n      \"column\": \"writing_score\",\n      \"properties\": {\n        \"dtype\": \"number\",\n        \"std\": 15,\n        \"min\": 10,\n        \"max\": 100,\n        \"num_unique_values\": 77,\n        \"samples\": [\n          75,\n          76\n        ],\n        \"semantic_type\": \"\",\n        \"description\": \"\"\n      }\n    }\n  ]\n}"
            }
          },
          "metadata": {},
          "execution_count": 23
        }
      ]
    },
    {
      "cell_type": "code",
      "source": [
        "summary_data = df.describe().loc[['min', '25%', '50%', '75%', 'max']]\n",
        "print(\"Show data summary:\")\n",
        "print(summary_data)"
      ],
      "metadata": {
        "colab": {
          "base_uri": "https://localhost:8080/"
        },
        "id": "HXWqhuVQzuSd",
        "outputId": "fde25dbf-51f3-4dbf-cc60-33e4bfe73c55"
      },
      "execution_count": 24,
      "outputs": [
        {
          "output_type": "stream",
          "name": "stdout",
          "text": [
            "Show data summary:\n",
            "     math_score  reading_score  writing_score\n",
            "min         0.0           17.0          10.00\n",
            "25%        57.0           59.0          57.75\n",
            "50%        66.0           70.0          69.00\n",
            "75%        77.0           79.0          79.00\n",
            "max       100.0          100.0         100.00\n"
          ]
        }
      ]
    },
    {
      "cell_type": "code",
      "source": [
        "categorical_columns = df.select_dtypes(include=['object']).columns\n",
        "print(\"Values for these features:\")\n",
        "_ = [print(df[col].value_counts()) for col in categorical_columns]\n",
        "\n"
      ],
      "metadata": {
        "id": "jVYBAA5bZCgA",
        "colab": {
          "base_uri": "https://localhost:8080/"
        },
        "outputId": "45d3726f-dd28-41df-b3c8-f37977dab87c"
      },
      "execution_count": 25,
      "outputs": [
        {
          "output_type": "stream",
          "name": "stdout",
          "text": [
            "Values for these features:\n",
            "gender\n",
            "female    518\n",
            "male      482\n",
            "Name: count, dtype: int64\n",
            "race_ethnicity\n",
            "group C    319\n",
            "group D    262\n",
            "group B    190\n",
            "group E    140\n",
            "group A     89\n",
            "Name: count, dtype: int64\n",
            "parental_level_of_education\n",
            "some college          226\n",
            "associate's degree    222\n",
            "high school           196\n",
            "some high school      179\n",
            "bachelor's degree     118\n",
            "master's degree        59\n",
            "Name: count, dtype: int64\n",
            "lunch\n",
            "standard        645\n",
            "free/reduced    355\n",
            "Name: count, dtype: int64\n",
            "test_preparation_course\n",
            "none         642\n",
            "completed    358\n",
            "Name: count, dtype: int64\n"
          ]
        }
      ]
    },
    {
      "cell_type": "markdown",
      "source": [
        "## Q1: Gender and Education <a><a name='ch1'>\n"
      ],
      "metadata": {
        "id": "NPlNM6quX9ao"
      }
    },
    {
      "cell_type": "markdown",
      "source": [
        "1. First define a new column in the data frame that represents the literature score which is the `(writing_score + reading_score)/2`\n",
        "2. Choose an appropriate plot to compare between females and males in:\n",
        "    - math score\n",
        "    - literature score\n",
        "    - Try to stick to the best practices (Title, xlabel, ylabel, color should be representative, shading)\n",
        "3. Comment on your visualization\n",
        "4. Formulate 2 hypotheses to test for gender differences in\n",
        "    - mathematics score\n",
        "    - literature score\n",
        "5. Interpret your results for each case"
      ],
      "metadata": {
        "id": "OzII5o02X9ao"
      }
    },
    {
      "cell_type": "markdown",
      "source": [
        "### Solution"
      ],
      "metadata": {
        "id": "MHtAzzKPZIBN"
      }
    },
    {
      "cell_type": "code",
      "source": [
        "df['literature_score']= (df['writing_score']+df['reading_score'])/2\n",
        "df.head()"
      ],
      "metadata": {
        "id": "bglQdXUzZHyB",
        "colab": {
          "base_uri": "https://localhost:8080/",
          "height": 206
        },
        "outputId": "d4e58bcf-90ea-4ec9-8aa2-287e1faad7b5"
      },
      "execution_count": 26,
      "outputs": [
        {
          "output_type": "execute_result",
          "data": {
            "text/plain": [
              "   gender race_ethnicity parental_level_of_education         lunch  \\\n",
              "0  female        group B           bachelor's degree      standard   \n",
              "1  female        group C                some college      standard   \n",
              "2  female        group B             master's degree      standard   \n",
              "3    male        group A          associate's degree  free/reduced   \n",
              "4    male        group C                some college      standard   \n",
              "\n",
              "  test_preparation_course  math_score  reading_score  writing_score  \\\n",
              "0                    none          72             72             74   \n",
              "1               completed          69             90             88   \n",
              "2                    none          90             95             93   \n",
              "3                    none          47             57             44   \n",
              "4                    none          76             78             75   \n",
              "\n",
              "   literature_score  \n",
              "0              73.0  \n",
              "1              89.0  \n",
              "2              94.0  \n",
              "3              50.5  \n",
              "4              76.5  "
            ],
            "text/html": [
              "\n",
              "  <div id=\"df-4d3dab03-29f2-46ea-9f8b-d6d9e47e8773\" class=\"colab-df-container\">\n",
              "    <div>\n",
              "<style scoped>\n",
              "    .dataframe tbody tr th:only-of-type {\n",
              "        vertical-align: middle;\n",
              "    }\n",
              "\n",
              "    .dataframe tbody tr th {\n",
              "        vertical-align: top;\n",
              "    }\n",
              "\n",
              "    .dataframe thead th {\n",
              "        text-align: right;\n",
              "    }\n",
              "</style>\n",
              "<table border=\"1\" class=\"dataframe\">\n",
              "  <thead>\n",
              "    <tr style=\"text-align: right;\">\n",
              "      <th></th>\n",
              "      <th>gender</th>\n",
              "      <th>race_ethnicity</th>\n",
              "      <th>parental_level_of_education</th>\n",
              "      <th>lunch</th>\n",
              "      <th>test_preparation_course</th>\n",
              "      <th>math_score</th>\n",
              "      <th>reading_score</th>\n",
              "      <th>writing_score</th>\n",
              "      <th>literature_score</th>\n",
              "    </tr>\n",
              "  </thead>\n",
              "  <tbody>\n",
              "    <tr>\n",
              "      <th>0</th>\n",
              "      <td>female</td>\n",
              "      <td>group B</td>\n",
              "      <td>bachelor's degree</td>\n",
              "      <td>standard</td>\n",
              "      <td>none</td>\n",
              "      <td>72</td>\n",
              "      <td>72</td>\n",
              "      <td>74</td>\n",
              "      <td>73.0</td>\n",
              "    </tr>\n",
              "    <tr>\n",
              "      <th>1</th>\n",
              "      <td>female</td>\n",
              "      <td>group C</td>\n",
              "      <td>some college</td>\n",
              "      <td>standard</td>\n",
              "      <td>completed</td>\n",
              "      <td>69</td>\n",
              "      <td>90</td>\n",
              "      <td>88</td>\n",
              "      <td>89.0</td>\n",
              "    </tr>\n",
              "    <tr>\n",
              "      <th>2</th>\n",
              "      <td>female</td>\n",
              "      <td>group B</td>\n",
              "      <td>master's degree</td>\n",
              "      <td>standard</td>\n",
              "      <td>none</td>\n",
              "      <td>90</td>\n",
              "      <td>95</td>\n",
              "      <td>93</td>\n",
              "      <td>94.0</td>\n",
              "    </tr>\n",
              "    <tr>\n",
              "      <th>3</th>\n",
              "      <td>male</td>\n",
              "      <td>group A</td>\n",
              "      <td>associate's degree</td>\n",
              "      <td>free/reduced</td>\n",
              "      <td>none</td>\n",
              "      <td>47</td>\n",
              "      <td>57</td>\n",
              "      <td>44</td>\n",
              "      <td>50.5</td>\n",
              "    </tr>\n",
              "    <tr>\n",
              "      <th>4</th>\n",
              "      <td>male</td>\n",
              "      <td>group C</td>\n",
              "      <td>some college</td>\n",
              "      <td>standard</td>\n",
              "      <td>none</td>\n",
              "      <td>76</td>\n",
              "      <td>78</td>\n",
              "      <td>75</td>\n",
              "      <td>76.5</td>\n",
              "    </tr>\n",
              "  </tbody>\n",
              "</table>\n",
              "</div>\n",
              "    <div class=\"colab-df-buttons\">\n",
              "\n",
              "  <div class=\"colab-df-container\">\n",
              "    <button class=\"colab-df-convert\" onclick=\"convertToInteractive('df-4d3dab03-29f2-46ea-9f8b-d6d9e47e8773')\"\n",
              "            title=\"Convert this dataframe to an interactive table.\"\n",
              "            style=\"display:none;\">\n",
              "\n",
              "  <svg xmlns=\"http://www.w3.org/2000/svg\" height=\"24px\" viewBox=\"0 -960 960 960\">\n",
              "    <path d=\"M120-120v-720h720v720H120Zm60-500h600v-160H180v160Zm220 220h160v-160H400v160Zm0 220h160v-160H400v160ZM180-400h160v-160H180v160Zm440 0h160v-160H620v160ZM180-180h160v-160H180v160Zm440 0h160v-160H620v160Z\"/>\n",
              "  </svg>\n",
              "    </button>\n",
              "\n",
              "  <style>\n",
              "    .colab-df-container {\n",
              "      display:flex;\n",
              "      gap: 12px;\n",
              "    }\n",
              "\n",
              "    .colab-df-convert {\n",
              "      background-color: #E8F0FE;\n",
              "      border: none;\n",
              "      border-radius: 50%;\n",
              "      cursor: pointer;\n",
              "      display: none;\n",
              "      fill: #1967D2;\n",
              "      height: 32px;\n",
              "      padding: 0 0 0 0;\n",
              "      width: 32px;\n",
              "    }\n",
              "\n",
              "    .colab-df-convert:hover {\n",
              "      background-color: #E2EBFA;\n",
              "      box-shadow: 0px 1px 2px rgba(60, 64, 67, 0.3), 0px 1px 3px 1px rgba(60, 64, 67, 0.15);\n",
              "      fill: #174EA6;\n",
              "    }\n",
              "\n",
              "    .colab-df-buttons div {\n",
              "      margin-bottom: 4px;\n",
              "    }\n",
              "\n",
              "    [theme=dark] .colab-df-convert {\n",
              "      background-color: #3B4455;\n",
              "      fill: #D2E3FC;\n",
              "    }\n",
              "\n",
              "    [theme=dark] .colab-df-convert:hover {\n",
              "      background-color: #434B5C;\n",
              "      box-shadow: 0px 1px 3px 1px rgba(0, 0, 0, 0.15);\n",
              "      filter: drop-shadow(0px 1px 2px rgba(0, 0, 0, 0.3));\n",
              "      fill: #FFFFFF;\n",
              "    }\n",
              "  </style>\n",
              "\n",
              "    <script>\n",
              "      const buttonEl =\n",
              "        document.querySelector('#df-4d3dab03-29f2-46ea-9f8b-d6d9e47e8773 button.colab-df-convert');\n",
              "      buttonEl.style.display =\n",
              "        google.colab.kernel.accessAllowed ? 'block' : 'none';\n",
              "\n",
              "      async function convertToInteractive(key) {\n",
              "        const element = document.querySelector('#df-4d3dab03-29f2-46ea-9f8b-d6d9e47e8773');\n",
              "        const dataTable =\n",
              "          await google.colab.kernel.invokeFunction('convertToInteractive',\n",
              "                                                    [key], {});\n",
              "        if (!dataTable) return;\n",
              "\n",
              "        const docLinkHtml = 'Like what you see? Visit the ' +\n",
              "          '<a target=\"_blank\" href=https://colab.research.google.com/notebooks/data_table.ipynb>data table notebook</a>'\n",
              "          + ' to learn more about interactive tables.';\n",
              "        element.innerHTML = '';\n",
              "        dataTable['output_type'] = 'display_data';\n",
              "        await google.colab.output.renderOutput(dataTable, element);\n",
              "        const docLink = document.createElement('div');\n",
              "        docLink.innerHTML = docLinkHtml;\n",
              "        element.appendChild(docLink);\n",
              "      }\n",
              "    </script>\n",
              "  </div>\n",
              "\n",
              "\n",
              "<div id=\"df-b1ce845d-c598-49da-935e-720829d2fe02\">\n",
              "  <button class=\"colab-df-quickchart\" onclick=\"quickchart('df-b1ce845d-c598-49da-935e-720829d2fe02')\"\n",
              "            title=\"Suggest charts\"\n",
              "            style=\"display:none;\">\n",
              "\n",
              "<svg xmlns=\"http://www.w3.org/2000/svg\" height=\"24px\"viewBox=\"0 0 24 24\"\n",
              "     width=\"24px\">\n",
              "    <g>\n",
              "        <path d=\"M19 3H5c-1.1 0-2 .9-2 2v14c0 1.1.9 2 2 2h14c1.1 0 2-.9 2-2V5c0-1.1-.9-2-2-2zM9 17H7v-7h2v7zm4 0h-2V7h2v10zm4 0h-2v-4h2v4z\"/>\n",
              "    </g>\n",
              "</svg>\n",
              "  </button>\n",
              "\n",
              "<style>\n",
              "  .colab-df-quickchart {\n",
              "      --bg-color: #E8F0FE;\n",
              "      --fill-color: #1967D2;\n",
              "      --hover-bg-color: #E2EBFA;\n",
              "      --hover-fill-color: #174EA6;\n",
              "      --disabled-fill-color: #AAA;\n",
              "      --disabled-bg-color: #DDD;\n",
              "  }\n",
              "\n",
              "  [theme=dark] .colab-df-quickchart {\n",
              "      --bg-color: #3B4455;\n",
              "      --fill-color: #D2E3FC;\n",
              "      --hover-bg-color: #434B5C;\n",
              "      --hover-fill-color: #FFFFFF;\n",
              "      --disabled-bg-color: #3B4455;\n",
              "      --disabled-fill-color: #666;\n",
              "  }\n",
              "\n",
              "  .colab-df-quickchart {\n",
              "    background-color: var(--bg-color);\n",
              "    border: none;\n",
              "    border-radius: 50%;\n",
              "    cursor: pointer;\n",
              "    display: none;\n",
              "    fill: var(--fill-color);\n",
              "    height: 32px;\n",
              "    padding: 0;\n",
              "    width: 32px;\n",
              "  }\n",
              "\n",
              "  .colab-df-quickchart:hover {\n",
              "    background-color: var(--hover-bg-color);\n",
              "    box-shadow: 0 1px 2px rgba(60, 64, 67, 0.3), 0 1px 3px 1px rgba(60, 64, 67, 0.15);\n",
              "    fill: var(--button-hover-fill-color);\n",
              "  }\n",
              "\n",
              "  .colab-df-quickchart-complete:disabled,\n",
              "  .colab-df-quickchart-complete:disabled:hover {\n",
              "    background-color: var(--disabled-bg-color);\n",
              "    fill: var(--disabled-fill-color);\n",
              "    box-shadow: none;\n",
              "  }\n",
              "\n",
              "  .colab-df-spinner {\n",
              "    border: 2px solid var(--fill-color);\n",
              "    border-color: transparent;\n",
              "    border-bottom-color: var(--fill-color);\n",
              "    animation:\n",
              "      spin 1s steps(1) infinite;\n",
              "  }\n",
              "\n",
              "  @keyframes spin {\n",
              "    0% {\n",
              "      border-color: transparent;\n",
              "      border-bottom-color: var(--fill-color);\n",
              "      border-left-color: var(--fill-color);\n",
              "    }\n",
              "    20% {\n",
              "      border-color: transparent;\n",
              "      border-left-color: var(--fill-color);\n",
              "      border-top-color: var(--fill-color);\n",
              "    }\n",
              "    30% {\n",
              "      border-color: transparent;\n",
              "      border-left-color: var(--fill-color);\n",
              "      border-top-color: var(--fill-color);\n",
              "      border-right-color: var(--fill-color);\n",
              "    }\n",
              "    40% {\n",
              "      border-color: transparent;\n",
              "      border-right-color: var(--fill-color);\n",
              "      border-top-color: var(--fill-color);\n",
              "    }\n",
              "    60% {\n",
              "      border-color: transparent;\n",
              "      border-right-color: var(--fill-color);\n",
              "    }\n",
              "    80% {\n",
              "      border-color: transparent;\n",
              "      border-right-color: var(--fill-color);\n",
              "      border-bottom-color: var(--fill-color);\n",
              "    }\n",
              "    90% {\n",
              "      border-color: transparent;\n",
              "      border-bottom-color: var(--fill-color);\n",
              "    }\n",
              "  }\n",
              "</style>\n",
              "\n",
              "  <script>\n",
              "    async function quickchart(key) {\n",
              "      const quickchartButtonEl =\n",
              "        document.querySelector('#' + key + ' button');\n",
              "      quickchartButtonEl.disabled = true;  // To prevent multiple clicks.\n",
              "      quickchartButtonEl.classList.add('colab-df-spinner');\n",
              "      try {\n",
              "        const charts = await google.colab.kernel.invokeFunction(\n",
              "            'suggestCharts', [key], {});\n",
              "      } catch (error) {\n",
              "        console.error('Error during call to suggestCharts:', error);\n",
              "      }\n",
              "      quickchartButtonEl.classList.remove('colab-df-spinner');\n",
              "      quickchartButtonEl.classList.add('colab-df-quickchart-complete');\n",
              "    }\n",
              "    (() => {\n",
              "      let quickchartButtonEl =\n",
              "        document.querySelector('#df-b1ce845d-c598-49da-935e-720829d2fe02 button');\n",
              "      quickchartButtonEl.style.display =\n",
              "        google.colab.kernel.accessAllowed ? 'block' : 'none';\n",
              "    })();\n",
              "  </script>\n",
              "</div>\n",
              "    </div>\n",
              "  </div>\n"
            ],
            "application/vnd.google.colaboratory.intrinsic+json": {
              "type": "dataframe",
              "variable_name": "df",
              "summary": "{\n  \"name\": \"df\",\n  \"rows\": 1000,\n  \"fields\": [\n    {\n      \"column\": \"gender\",\n      \"properties\": {\n        \"dtype\": \"category\",\n        \"num_unique_values\": 2,\n        \"samples\": [\n          \"male\",\n          \"female\"\n        ],\n        \"semantic_type\": \"\",\n        \"description\": \"\"\n      }\n    },\n    {\n      \"column\": \"race_ethnicity\",\n      \"properties\": {\n        \"dtype\": \"category\",\n        \"num_unique_values\": 5,\n        \"samples\": [\n          \"group C\",\n          \"group E\"\n        ],\n        \"semantic_type\": \"\",\n        \"description\": \"\"\n      }\n    },\n    {\n      \"column\": \"parental_level_of_education\",\n      \"properties\": {\n        \"dtype\": \"category\",\n        \"num_unique_values\": 6,\n        \"samples\": [\n          \"bachelor's degree\",\n          \"some college\"\n        ],\n        \"semantic_type\": \"\",\n        \"description\": \"\"\n      }\n    },\n    {\n      \"column\": \"lunch\",\n      \"properties\": {\n        \"dtype\": \"category\",\n        \"num_unique_values\": 2,\n        \"samples\": [\n          \"free/reduced\",\n          \"standard\"\n        ],\n        \"semantic_type\": \"\",\n        \"description\": \"\"\n      }\n    },\n    {\n      \"column\": \"test_preparation_course\",\n      \"properties\": {\n        \"dtype\": \"category\",\n        \"num_unique_values\": 2,\n        \"samples\": [\n          \"completed\",\n          \"none\"\n        ],\n        \"semantic_type\": \"\",\n        \"description\": \"\"\n      }\n    },\n    {\n      \"column\": \"math_score\",\n      \"properties\": {\n        \"dtype\": \"number\",\n        \"std\": 15,\n        \"min\": 0,\n        \"max\": 100,\n        \"num_unique_values\": 81,\n        \"samples\": [\n          55,\n          72\n        ],\n        \"semantic_type\": \"\",\n        \"description\": \"\"\n      }\n    },\n    {\n      \"column\": \"reading_score\",\n      \"properties\": {\n        \"dtype\": \"number\",\n        \"std\": 14,\n        \"min\": 17,\n        \"max\": 100,\n        \"num_unique_values\": 72,\n        \"samples\": [\n          78,\n          23\n        ],\n        \"semantic_type\": \"\",\n        \"description\": \"\"\n      }\n    },\n    {\n      \"column\": \"writing_score\",\n      \"properties\": {\n        \"dtype\": \"number\",\n        \"std\": 15,\n        \"min\": 10,\n        \"max\": 100,\n        \"num_unique_values\": 77,\n        \"samples\": [\n          75,\n          76\n        ],\n        \"semantic_type\": \"\",\n        \"description\": \"\"\n      }\n    },\n    {\n      \"column\": \"literature_score\",\n      \"properties\": {\n        \"dtype\": \"number\",\n        \"std\": 14.727923461217454,\n        \"min\": 13.5,\n        \"max\": 100.0,\n        \"num_unique_values\": 138,\n        \"samples\": [\n          76.0,\n          86.0\n        ],\n        \"semantic_type\": \"\",\n        \"description\": \"\"\n      }\n    }\n  ]\n}"
            }
          },
          "metadata": {},
          "execution_count": 26
        }
      ]
    },
    {
      "cell_type": "code",
      "source": [
        "# Boxplot for math scores\n",
        "plt.figure(figsize=(10, 6))\n",
        "box1 = plt.boxplot([df.loc[df['gender'] == 'female', 'math_score'],\n",
        "                   df.loc[df['gender'] == 'male', 'math_score']],\n",
        "                  notch=True, patch_artist=True)\n",
        "for box, color in zip(box1['boxes'], ['pink', 'skyblue']):\n",
        "    box.set_facecolor(color)\n",
        "plt.grid(True)\n",
        "plt.xlabel('Gender')\n",
        "plt.ylabel('Math Score')\n",
        "plt.title('Math Score by Gender')\n",
        "plt.show()\n",
        "\n",
        "# Boxplot for literature scores\n",
        "plt.figure(figsize=(10, 6))\n",
        "box2 = plt.boxplot([df.loc[df['gender'] == 'female', 'literature_score'],\n",
        "                   df.loc[df['gender'] == 'male', 'literature_score']],\n",
        "                  notch=True, patch_artist=True)\n",
        "for box, color in zip(box2['boxes'], ['pink', 'skyblue']):\n",
        "    box.set_facecolor(color)\n",
        "plt.grid(True)\n",
        "plt.xlabel('Gender')\n",
        "plt.ylabel('Literature Score')\n",
        "plt.title('Literature Score by Gender')\n",
        "plt.show()"
      ],
      "metadata": {
        "colab": {
          "base_uri": "https://localhost:8080/",
          "height": 1000
        },
        "id": "iE7J7hzo05A1",
        "outputId": "f93ab9ea-cab4-4e52-d314-bf0a5e301d3f"
      },
      "execution_count": 27,
      "outputs": [
        {
          "output_type": "display_data",
          "data": {
            "text/plain": [
              "<Figure size 1000x600 with 1 Axes>"
            ],
            "image/png": "[encoded data removed]"
          },
          "metadata": {}
        },
        {
          "output_type": "display_data",
          "data": {
            "text/plain": [
              "<Figure size 1000x600 with 1 Axes>"
            ],
            "image/png": "[encoded data removed]"
          },
          "metadata": {}
        }
      ]
    },
    {
      "cell_type": "markdown",
      "source": [
        "**Observations;**\n",
        "\n",
        "---\n",
        "\n",
        "\n",
        "The boxplots indicate that women tend to achieve median and mean scores, in both math and literature compared to men.\n",
        "The scores for women appear to be tightly clustered suggesting variation in their performance compared to men.\n"
      ],
      "metadata": {
        "id": "4uXPdue12n7k"
      }
    },
    {
      "cell_type": "markdown",
      "source": [
        "**Hypotheses:**\n",
        "\n",
        "---\n",
        "\n",
        "\n",
        "For math scores; The null hypothesis states that there is no discrepancy in the math scores between women and men while the alternative hypothesis posits a notable difference.\n",
        "For literature scores; The null hypothesis suggests no difference in the literature scores between women and men whereas the alternative hypothesis proposes a significant variance.\n",
        "To interpret the findings accurately conducting tests such as t tests or Mann Whitney U tests is essential to determine if the disparities observed in math and literature scores, between women and men hold statistical significance."
      ],
      "metadata": {
        "id": "iwqD_Vis2023"
      }
    },
    {
      "cell_type": "markdown",
      "source": [
        "## Q2: Does race or ethnic origin impacts students' abilities in learning? <a><a name='ch2'>"
      ],
      "metadata": {
        "id": "Mich6v1vX9ap"
      }
    },
    {
      "cell_type": "markdown",
      "source": [
        "1. Define a new feature called `tot_score = (math_score + reading_score+ writing_score)/3`\n",
        "2. Choose an appropriate plot to see the distribution of the overall score for different racial groups\n",
        "3. Comment on your results; for instance, do you think that a certain group performed overall better than the rest\n",
        "4. Choose a suitable statistical test to test whether the average score of a certain group has a statistical difference from the rest.\n",
        "5. Perform the test and comment on your results"
      ],
      "metadata": {
        "id": "K1wdtffuX9ap"
      }
    },
    {
      "cell_type": "markdown",
      "source": [
        "### Solution"
      ],
      "metadata": {
        "id": "GZSqqrpRX9ap"
      }
    },
    {
      "cell_type": "code",
      "source": [
        "df['tot_score'] = (df['math_score'] + df['reading_score'] + df['writing_score']) / 3"
      ],
      "metadata": {
        "id": "GLgL-biXZOFx"
      },
      "execution_count": 28,
      "outputs": []
    },
    {
      "cell_type": "code",
      "source": [
        "import matplotlib.pyplot as plt\n",
        "import seaborn as sns\n",
        "plt.figure(figsize=(10, 6))\n",
        "sns.displot(data=df, x='tot_score', kde=True)\n",
        "plt.xlabel('Total Score')\n",
        "plt.ylabel('Density')\n",
        "plt.title('Distribution of Total Score')\n",
        "plt.show()"
      ],
      "metadata": {
        "id": "ipA9uTw_ZOCZ",
        "colab": {
          "base_uri": "https://localhost:8080/",
          "height": 546
        },
        "outputId": "acc44cb2-58e1-490e-c275-049f5c816a48"
      },
      "execution_count": 29,
      "outputs": [
        {
          "output_type": "display_data",
          "data": {
            "text/plain": [
              "<Figure size 1000x600 with 0 Axes>"
            ]
          },
          "metadata": {}
        },
        {
          "output_type": "display_data",
          "data": {
            "text/plain": [
              "<Figure size 500x500 with 1 Axes>"
            ],
            "image/png": "[encoded data removed]"
          },
          "metadata": {}
        }
      ]
    },
    {
      "cell_type": "markdown",
      "source": [
        "**3.observation**\n",
        "\n",
        "---\n",
        "\n",
        "\n",
        "Based on what I've noticed;\n",
        "Total scores seem to differ among groups.\n",
        "Certain groups, like individuals seem to achieve total scores than others, such, as Black or African American individuals.\n",
        "**4.**To determine if the average total score of a group significantly differs from the rest we can conduct an Analysis of Variance (ANOVA) test."
      ],
      "metadata": {
        "id": "9VPTguWq7EPL"
      }
    },
    {
      "cell_type": "code",
      "source": [
        "print(df.columns)"
      ],
      "metadata": {
        "colab": {
          "base_uri": "https://localhost:8080/"
        },
        "id": "rN0SPRWA-WL_",
        "outputId": "7fcbc4a4-8f0b-46e0-cc8b-165c0537215c"
      },
      "execution_count": 37,
      "outputs": [
        {
          "output_type": "stream",
          "name": "stdout",
          "text": [
            "Index(['gender', 'race_ethnicity', 'parental_level_of_education', 'lunch',\n",
            "       'test_preparation_course', 'math_score', 'reading_score',\n",
            "       'writing_score', 'literature_score', 'tot_score'],\n",
            "      dtype='object')\n"
          ]
        }
      ]
    },
    {
      "cell_type": "code",
      "source": [
        "df['tot_score'] = (df['math_score'] + df['reading_score'] + df['writing_score']) / 3\n",
        "\n",
        "plt.figure(figsize=(10, 6))\n",
        "sns.boxplot(data=df, x='race_ethnicity', y='tot_score', palette='Set2')\n",
        "plt.xlabel('Race_Ethnicity')\n",
        "plt.ylabel('Total Score')\n",
        "plt.title('Distribution of Total Score by Race/Ethnicity')\n",
        "plt.show()\n",
        "\n",
        "\n"
      ],
      "metadata": {
        "colab": {
          "base_uri": "https://localhost:8080/",
          "height": 685
        },
        "id": "qbIbtOC1-H8L",
        "outputId": "079dea7e-c1c4-4273-fed8-0184b86a180a"
      },
      "execution_count": 40,
      "outputs": [
        {
          "output_type": "stream",
          "name": "stderr",
          "text": [
            "<ipython-input-40-5666792e120e>:6: FutureWarning: \n",
            "\n",
            "Passing `palette` without assigning `hue` is deprecated and will be removed in v0.14.0. Assign the `x` variable to `hue` and set `legend=False` for the same effect.\n",
            "\n",
            "  sns.boxplot(data=df, x='race_ethnicity', y='tot_score', palette='Set2')\n"
          ]
        },
        {
          "output_type": "display_data",
          "data": {
            "text/plain": [
              "<Figure size 1000x600 with 1 Axes>"
            ],
            "image/png": "[encoded data removed]"
          },
          "metadata": {}
        },
        {
          "output_type": "stream",
          "name": "stdout",
          "text": [
            "F-statistic: 9.10\n",
            "p-value: 0.0000\n"
          ]
        }
      ]
    },
    {
      "cell_type": "markdown",
      "source": [
        "Based on what I've noticed;\n",
        "Total scores seem to differ among groups.\n",
        "Certain groups, like individuals seem to achieve total scores than others, such, as Black or African American individuals.\n",
        "To determine if the average total score of a group significantly differs from the rest we can conduct an Analysis of Variance (ANOVA) test."
      ],
      "metadata": {
        "id": "w82WvyQ6_Xpy"
      }
    },
    {
      "cell_type": "code",
      "source": [
        "# Perform ANOVA test\n",
        "from scipy.stats import f_oneway\n",
        "groups = df['race_ethnicity'].unique()\n",
        "group_data = [df[df['race_ethnicity'] == group]['tot_score'] for group in groups]\n",
        "\n",
        "f_value, p_value = f_oneway(*group_data)\n",
        "\n",
        "print(f'F-statistic: {f_value:.2f}')\n",
        "print(f'p-value: {p_value:.4f}')"
      ],
      "metadata": {
        "colab": {
          "base_uri": "https://localhost:8080/"
        },
        "id": "2AjA_WF8-5cR",
        "outputId": "7af88871-497e-4d0f-d979-5abb39cd72fd"
      },
      "execution_count": 41,
      "outputs": [
        {
          "output_type": "stream",
          "name": "stdout",
          "text": [
            "F-statistic: 9.10\n",
            "p-value: 0.0000\n"
          ]
        }
      ]
    },
    {
      "cell_type": "markdown",
      "source": [
        "The F-statistic of 9.10 and a p-value of 0.0000 suggest that : Based on the data it is clear that there are variations, in the total scores across the various groups. With a p value, below 0.05 we have grounds to dismiss the idea that all groups share an identical population mean for the score."
      ],
      "metadata": {
        "id": "n6XMV2JrAA-e"
      }
    },
    {
      "cell_type": "markdown",
      "source": [
        "note : after doing some research on why p_value is zero , the reason was due to that it could be very sall value rounded to zero not exactly zero\n",
        "\n"
      ],
      "metadata": {
        "id": "_KOp6LRO_hgk"
      }
    },
    {
      "cell_type": "markdown",
      "source": [
        "## Q3: Repeat the same test in Q2 but <a><a name='ch3'>\n",
        "after considering only the students who completed the test preparation course"
      ],
      "metadata": {
        "id": "1R4HySQvX9ar"
      }
    },
    {
      "cell_type": "markdown",
      "source": [
        "approch :  Filter who completed the test preparation course\n",
        "\n",
        "*   Filter who completed the test preparation course\n",
        "*   Perform ANOVA test to check for differences in average scores among groups\n",
        "*    Assuming 'race/ethnicity' groups are labeled from 'group A' to 'group E'\n",
        "\n",
        "\n",
        "\n",
        "\n"
      ],
      "metadata": {
        "id": "3lCjgIPEBZOo"
      }
    },
    {
      "cell_type": "markdown",
      "source": [
        "### solution"
      ],
      "metadata": {
        "id": "IOcDQRxlX9ar"
      }
    },
    {
      "cell_type": "code",
      "source": [
        "completed_df = df[df['test_preparation_course'] == 'completed']\n",
        "from scipy.stats import f_oneway\n",
        "groups_completed = completed_df['race_ethnicity'].unique()\n",
        "group_data_completed = [completed_df[completed_df['race_ethnicity'] == group]['tot_score'] for group in groups_completed]\n",
        "\n",
        "f_value_completed, p_value_completed = f_oneway(*group_data_completed)\n",
        "\n",
        "print(f'F-statistic (completed): {f_value_completed:.2f}')\n",
        "print(f'p-value (completed): {p_value_completed:.4f}')"
      ],
      "metadata": {
        "id": "iQcsDLwFZQAn",
        "colab": {
          "base_uri": "https://localhost:8080/"
        },
        "outputId": "d2d82ae4-1da3-41f3-e3cf-a44ac7c37f26"
      },
      "execution_count": 44,
      "outputs": [
        {
          "output_type": "stream",
          "name": "stdout",
          "text": [
            "F-statistic (completed): 2.39\n",
            "p-value (completed): 0.0508\n"
          ]
        }
      ]
    },
    {
      "cell_type": "markdown",
      "source": [
        "The p value is, at 0.05 so deciding whether to reject the hypothesis (which states that there is no variation in the average total scores among the various race/ethnicity groups who took the test preparation course) is a bit of a tough call. This implies that any disparities in the scores, between the race/ethnicity groups are somewhat noteworthy."
      ],
      "metadata": {
        "id": "xfrsYx3wCb2C"
      }
    },
    {
      "cell_type": "markdown",
      "source": [
        "Though there are indications that race and ethnicity might influence the scores of students who took the test prep course the evidence is not robust enough to dismiss the null hypothesis at the standard 0.05 significance level. Nevertheless the findings hint at the need, for an examination of this issue."
      ],
      "metadata": {
        "id": "JJU6oHMJCxpg"
      }
    },
    {
      "cell_type": "markdown",
      "source": [
        "## Q4: Does parents' educational level can impact their children performance <a><a name='ch4'>"
      ],
      "metadata": {
        "id": "G4PzFKPhX9au"
      }
    },
    {
      "cell_type": "markdown",
      "source": [
        "1. Define a new feature \"higher education\" which is 1 if the parents have a master's or bachelor's degree\n",
        "2. Define new feature passed or not, considering that the success threshold is 60%\n",
        "3. Investigate whether students whose parents have higher educational degrees are more likely to pass the test compared to those without.\n",
        "    - Select an appropriate statistical test, formulate and conduct the hypothesis test, and analyze the results."
      ],
      "metadata": {
        "id": "MCk0Rr-TX9au"
      }
    },
    {
      "cell_type": "markdown",
      "source": [
        "approch :    \n",
        "\n",
        "\n",
        "*   Define the new feature 'higher_education'\n",
        "*   Define new feature 'passed' considering the success threshold is 60%\n",
        "\n",
        "\n",
        "*   Investigate the relationship between higher education and passing the test\n",
        "*   Create a contingency table\n",
        "* Perform the Chi-squared test\n",
        "\n",
        "\n",
        "\n"
      ],
      "metadata": {
        "id": "JAoIdLfmDSoV"
      }
    },
    {
      "cell_type": "markdown",
      "source": [
        "### Solution"
      ],
      "metadata": {
        "id": "qn2w-B4iX9au"
      }
    },
    {
      "cell_type": "code",
      "source": [
        "df['higher_education'] = df['parental_level_of_education'].apply(lambda x: 1 if x in ['bachelor\\'s degree', 'master\\'s degree'] else 0)\n",
        "df['passed'] = df['tot_score'].apply(lambda x: 1 if x >= 60 else 0)\n",
        "from scipy.stats import chi2_contingency\n",
        "contingency_table = pd.crosstab(df['higher_education'], df['passed'])\n",
        "chi2, p, dof, expected = chi2_contingency(contingency_table)\n",
        "\n",
        "print(f'Chi-squared: {chi2:.2f}')\n",
        "print(f'p-value: {p:.4f}')"
      ],
      "metadata": {
        "id": "bb96MK3eZSJ5",
        "colab": {
          "base_uri": "https://localhost:8080/"
        },
        "outputId": "39002ec9-c29b-4f4b-fb34-648b2aa20daa"
      },
      "execution_count": 45,
      "outputs": [
        {
          "output_type": "stream",
          "name": "stdout",
          "text": [
            "Chi-squared: 12.09\n",
            "p-value: 0.0005\n"
          ]
        }
      ]
    },
    {
      "cell_type": "markdown",
      "source": [
        "Interpreting the Results of the Chi Test;\n",
        "Chi Statistic; The value of 12.09 measures how much the actual frequencies of students passing the test differ from what we would expect if there was no link, between parents education level and their childrens test scores. A higher value indicates a difference.\n",
        "\n",
        "p value; With a p value of 0.0005 lower than the threshold of 0.05, for statistical significance it is highly improbable that the connection observed between parents education and their childrens test success happened by chance.\n"
      ],
      "metadata": {
        "id": "bSh6fZdVF5Tw"
      }
    },
    {
      "cell_type": "markdown",
      "source": [
        "After analyzing the findings;\n",
        "Since the p value is, below 0.05 we can reject the hypothesis (H0) that suggests there is no connection between parents education levels and their childrens chances of passing the exam. Instead we support the hypothesis (H1) that there is a statistical link between these two factors.\n",
        "\n",
        "Thoughts on the Analysis;\n",
        "Significance in Statistics; The outcomes show a relationship indicating that students with parents holding higher educational qualifications like bachelors or masters degrees tend to perform better on the test compared to those whose parents lack these credentials.\n",
        "\n",
        "Strength of Relationship; Although the Chi squared test reveals an association it doesn't provide a measure of how strong this relationship's. To gauge its strength accurately we could consider metrics such, as Cramers V or the phi coefficient.\n"
      ],
      "metadata": {
        "id": "s26X8HJWGNQE"
      }
    }
  ]
}